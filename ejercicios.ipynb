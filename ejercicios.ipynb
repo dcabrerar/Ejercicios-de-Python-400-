{
 "cells": [
  {
   "cell_type": "code",
   "execution_count": 13,
   "metadata": {},
   "outputs": [
    {
     "name": "stdout",
     "output_type": "stream",
     "text": [
      "65535\n",
      "0b1111111111111111\n"
     ]
    }
   ],
   "source": [
    "a=int('1111111111111111',2)\n",
    "print(a)\n",
    "print(bin(a))"
   ]
  },
  {
   "cell_type": "code",
   "execution_count": 12,
   "metadata": {},
   "outputs": [
    {
     "name": "stdout",
     "output_type": "stream",
     "text": [
      "0b0\n",
      "0b1\n",
      "0b10\n",
      "0b11\n",
      "0b100\n",
      "0b101\n",
      "0b110\n",
      "0b111\n",
      "0b1000\n",
      "0b1001\n",
      "0b1010\n",
      "0b1011\n",
      "0b1100\n",
      "0b1101\n",
      "0b1110\n",
      "0b1111\n",
      "0b10000\n",
      "0b10001\n"
     ]
    }
   ],
   "source": [
    "\n",
    "for i in range(0,18):\n",
    "    print(bin(i))\n",
    "   "
   ]
  },
  {
   "cell_type": "code",
   "execution_count": 22,
   "metadata": {},
   "outputs": [
    {
     "name": "stdout",
     "output_type": "stream",
     "text": [
      "11\n",
      "32\n",
      "9\n"
     ]
    }
   ],
   "source": [
    "print(2+3*3)\n",
    "print(2**5)\n",
    "print((-3)**2)\n"
   ]
  },
  {
   "cell_type": "code",
   "execution_count": 23,
   "metadata": {},
   "outputs": [
    {
     "name": "stdout",
     "output_type": "stream",
     "text": [
      "100\n"
     ]
    }
   ],
   "source": [
    "x=10\n",
    "x=x*10\n",
    "print(x)"
   ]
  },
  {
   "cell_type": "code",
   "execution_count": 25,
   "metadata": {},
   "outputs": [
    {
     "name": "stdout",
     "output_type": "stream",
     "text": [
      "11040.0\n"
     ]
    }
   ],
   "source": [
    "x=10\n",
    "print(x**4+x**3+0.5*(x**2)-x)"
   ]
  },
  {
   "cell_type": "code",
   "execution_count": 26,
   "metadata": {},
   "outputs": [
    {
     "name": "stdout",
     "output_type": "stream",
     "text": [
      "-64.0\n"
     ]
    }
   ],
   "source": [
    "z=2\n",
    "z+=2\n",
    "z+=2-2\n",
    "z*=2\n",
    "z*=1+1\n",
    "z/=2\n",
    "z%=3\n",
    "z/=3-1\n",
    "z-=2+1\n",
    "z-=2\n",
    "z**=3\n",
    "print(z)"
   ]
  },
  {
   "cell_type": "code",
   "execution_count": 28,
   "metadata": {},
   "outputs": [
    {
     "name": "stdout",
     "output_type": "stream",
     "text": [
      "bb\n",
      "ba\n",
      "bbbbb\n",
      "bbbb\n"
     ]
    }
   ],
   "source": [
    "a='b'\n",
    "print(a+'b')\n",
    "print(a+'a')\n",
    "print(a*2+'b'*3)\n",
    "print(2*(a+'b'))"
   ]
  },
  {
   "cell_type": "code",
   "execution_count": 30,
   "metadata": {},
   "outputs": [
    {
     "name": "stdout",
     "output_type": "stream",
     "text": [
      "True\n",
      "False\n",
      "True\n",
      "True\n",
      "False\n",
      "False\n",
      "True\n",
      "True\n"
     ]
    }
   ],
   "source": [
    "print('abalorio'<'abecedario')\n",
    "print('abecedario'<'abecedario')\n",
    "print('abecedario'<='abecedario')\n",
    "print('Abecedario'<'abecedario')\n",
    "print('Abecedario'=='abecedario')\n",
    "print(124<13)\n",
    "print('124'<'13')\n",
    "print(' a'<'a')"
   ]
  },
  {
   "cell_type": "code",
   "execution_count": 36,
   "metadata": {},
   "outputs": [
    {
     "name": "stdout",
     "output_type": "stream",
     "text": [
      "3\n"
     ]
    }
   ],
   "source": [
    "print(abs(round(-3.2)))"
   ]
  },
  {
   "cell_type": "code",
   "execution_count": 38,
   "metadata": {},
   "outputs": [
    {
     "name": "stdout",
     "output_type": "stream",
     "text": [
      "0.501\n"
     ]
    }
   ],
   "source": [
    "print(str(round((5011/10000),3)))"
   ]
  },
  {
   "cell_type": "code",
   "execution_count": 39,
   "metadata": {},
   "outputs": [
    {
     "name": "stdout",
     "output_type": "stream",
     "text": [
      "3.0\n"
     ]
    }
   ],
   "source": [
    "print(float(3))"
   ]
  },
  {
   "cell_type": "code",
   "execution_count": 50,
   "metadata": {},
   "outputs": [
    {
     "name": "stdout",
     "output_type": "stream",
     "text": [
      "9.000000000000002\n",
      "-4\n",
      "10.0\n",
      "6.422\n"
     ]
    }
   ],
   "source": [
    "import numpy as np\n",
    "import math as mt\n",
    "print(mt.exp(2*np.log(3)))\n",
    "print(round(4*np.sin(3*mt.pi/2)))\n",
    "print(abs(np.log10(0.01)*mt.sqrt(25)))\n",
    "1p)rint(round(3.21123*np.log10(100),3))"
   ]
  },
  {
   "cell_type": "code",
   "execution_count": 62,
   "metadata": {},
   "outputs": [
    {
     "name": "stdout",
     "output_type": "stream",
     "text": [
      "El perimetro del cuadrado es:  4.4\n",
      "El area del cuadrado es:  1.21\n"
     ]
    }
   ],
   "source": [
    "lado=float(input(\"Ingresa el lado de un cuadrado (numero entero): \"))\n",
    "print('El perimetro del cuadrado es: ',4*lado)\n",
    "print('El area del cuadrado es: ',round(lado*lado,2))"
   ]
  },
  {
   "cell_type": "code",
   "execution_count": 63,
   "metadata": {},
   "outputs": [
    {
     "name": "stdout",
     "output_type": "stream",
     "text": [
      "El área del triángulo es es:  500.0\n"
     ]
    }
   ],
   "source": [
    "altura=int(input(\"Ingresa la altura de un triangulo (numero entero): \"))\n",
    "base=int(input(\"Ingresa la base de un triangulo (numero entero): \"))\n",
    "print('El área del triángulo es es: ',0.5*base*altura)"
   ]
  },
  {
   "cell_type": "code",
   "execution_count": 71,
   "metadata": {},
   "outputs": [
    {
     "name": "stdout",
     "output_type": "stream",
     "text": [
      "El área del triángulo es:  6.49519052838329\n",
      "El perímetro del triángulo es:  15\n"
     ]
    }
   ],
   "source": [
    "import math as mt\n",
    "a=int(input('Ingresa el lado 1 de un triángulo: '))\n",
    "b=int(input('Ingresa el lado 2 de un triángulo: '))\n",
    "c=int(input('Ingresa el lado 3 de un triángulo: '))\n",
    "perimetro=a+b+c\n",
    "s=perimetro/2\n",
    "area=mt.sqrt((s*(s-a)*(s-b)*(s-c)))\n",
    "print('El área del triángulo es: ',area)\n",
    "print('El perímetro del triángulo es: ',perimetro)"
   ]
  },
  {
   "cell_type": "code",
   "execution_count": 3,
   "metadata": {},
   "outputs": [
    {
     "name": "stdout",
     "output_type": "stream",
     "text": [
      "El área del triángulo es:  0.5\n"
     ]
    }
   ],
   "source": [
    "import numpy as np\n",
    "a=int(input('Ingresa el primer lado de un triángulo: '))\n",
    "b=int(input('Ingresa el segundo lado de un triángulo: '))\n",
    "teta=float(input('Ingresa el angulo formado por estos lados: '))\n",
    "angulo=teta*np.pi/180\n",
    "area=0.5*a*b*np.sin(angulo)\n",
    "print('El área del triángulo es: ',round(area,2))"
   ]
  },
  {
   "cell_type": "code",
   "execution_count": 5,
   "metadata": {},
   "outputs": [
    {
     "name": "stdout",
     "output_type": "stream",
     "text": [
      "La obligación, al cabo de 20 años sera de: $ 24117.14\n"
     ]
    }
   ],
   "source": [
    "c=int(input('Ingresar el Capital a calcular: '))\n",
    "t=float(input('Ingresa la tasa de interes anual a aplicar: '))\n",
    "n=int(input('Ingresa el numero de años: '))\n",
    "C=c*(1+(t/100))**n\n",
    "print('La obligación, al cabo de',n,'años sera de: $',round(C,2))"
   ]
  },
  {
   "cell_type": "code",
   "execution_count": 18,
   "metadata": {},
   "outputs": [
    {
     "name": "stdout",
     "output_type": "stream",
     "text": [
      "lolo lolo lolo lolo lolo lolo lolo lolo lolo lolo lolo lolo lolo lolo lolo lolo lolo lolo lolo lolo lolo lolo lolo lolo lolo lolo lolo lolo lolo lolo lolo lolo lolo lolo lolo lolo lolo lolo lolo lolo lolo lolo lolo lolo lolo lolo lolo lolo lolo lolo lolo lolo lolo lolo lolo lolo lolo lolo lolo lolo lolo lolo lolo lolo lolo lolo lolo lolo lolo lolo lolo lolo lolo lolo lolo lolo lolo lolo lolo lolo lolo lolo lolo lolo lolo lolo lolo lolo lolo lolo lolo lolo lolo lolo lolo lolo lolo lolo lolo lolo lolo lolo lolo lolo lolo lolo lolo lolo lolo lolo lolo lolo lolo lolo lolo lolo lolo lolo lolo lolo lolo lolo lolo lolo lolo lolo lolo lolo lolo lolo lolo lolo lolo lolo lolo lolo lolo lolo lolo lolo lolo lolo lolo lolo lolo lolo lolo lolo lolo lolo lolo lolo lolo lolo lolo lolo lolo lolo lolo lolo lolo lolo lolo lolo lolo lolo lolo lolo lolo lolo lolo lolo lolo lolo lolo lolo lolo lolo lolo lolo lolo lolo lolo lolo lolo lolo lolo lolo lolo lolo lolo lolo lolo lolo lolo lolo lolo lolo lolo lolo lolo lolo lolo lolo lolo lolo lolo lolo lolo lolo lolo lolo lolo lolo lolo lolo lolo lolo lolo lolo lolo lolo lolo lolo lolo lolo lolo lolo lolo lolo lolo lolo lolo lolo lolo lolo lolo lolo lolo lolo lolo lolo lolo lolo lolo lolo lolo lolo lolo lolo lolo lolo lolo lolo lolo lolo lolo lolo lolo lolo lolo lolo lolo lolo lolo lolo lolo lolo lolo lolo lolo lolo lolo lolo lolo lolo lolo lolo lolo lolo lolo lolo lolo lolo lolo lolo lolo lolo lolo lolo lolo lolo lolo lolo lolo lolo lolo lolo lolo lolo lolo lolo lolo lolo lolo lolo lolo lolo lolo lolo lolo lolo lolo lolo lolo lolo lolo lolo lolo lolo lolo lolo lolo lolo lolo lolo lolo lolo lolo lolo lolo lolo lolo lolo lolo lolo lolo lolo lolo lolo lolo lolo lolo lolo lolo lolo lolo lolo lolo lolo lolo lolo lolo lolo lolo lolo lolo lolo lolo lolo lolo lolo lolo lolo lolo lolo lolo lolo lolo lolo lolo lolo lolo lolo lolo lolo lolo lolo lolo lolo lolo lolo lolo lolo lolo lolo lolo lolo lolo lolo lolo lolo lolo lolo lolo lolo lolo lolo lolo lolo lolo lolo lolo lolo lolo lolo lolo lolo lolo lolo lolo lolo lolo lolo lolo lolo lolo lolo lolo lolo lolo lolo lolo lolo lolo lolo lolo lolo lolo lolo lolo lolo lolo lolo lolo lolo lolo lolo lolo lolo lolo lolo lolo lolo lolo lolo lolo lolo lolo lolo lolo lolo lolo lolo lolo lolo lolo lolo lolo lolo lolo lolo lolo lolo lolo lolo lolo lolo lolo lolo lolo lolo lolo lolo lolo lolo lolo lolo lolo lolo lolo lolo lolo lolo lolo lolo lolo lolo lolo lolo lolo lolo lolo lolo lolo lolo lolo lolo lolo lolo lolo lolo lolo lolo lolo lolo lolo lolo lolo lolo lolo lolo lolo lolo lolo lolo lolo lolo lolo lolo lolo lolo lolo lolo lolo lolo lolo lolo lolo lolo lolo lolo lolo lolo lolo lolo lolo lolo lolo lolo lolo lolo lolo lolo lolo lolo lolo lolo lolo lolo lolo lolo lolo lolo lolo lolo lolo lolo lolo lolo lolo lolo lolo lolo lolo lolo lolo lolo lolo lolo lolo lolo lolo lolo lolo lolo lolo lolo lolo lolo lolo lolo lolo lolo lolo lolo lolo lolo lolo lolo lolo lolo lolo lolo lolo lolo lolo lolo lolo lolo lolo lolo lolo lolo lolo lolo lolo lolo lolo lolo lolo lolo lolo lolo lolo lolo lolo lolo lolo lolo lolo lolo lolo lolo lolo lolo lolo lolo lolo lolo lolo lolo lolo lolo lolo lolo lolo lolo lolo lolo lolo lolo lolo lolo lolo lolo lolo lolo lolo lolo lolo lolo lolo lolo lolo lolo lolo lolo lolo lolo lolo lolo lolo lolo lolo lolo lolo lolo lolo lolo lolo lolo lolo lolo lolo lolo lolo lolo lolo lolo lolo lolo lolo lolo lolo lolo lolo lolo lolo lolo lolo lolo lolo lolo lolo lolo lolo lolo lolo lolo lolo lolo lolo lolo lolo lolo lolo lolo lolo lolo lolo lolo lolo lolo lolo lolo lolo lolo lolo lolo lolo lolo lolo lolo lolo lolo lolo lolo lolo lolo lolo lolo lolo lolo lolo lolo lolo lolo lolo lolo lolo lolo lolo lolo lolo lolo lolo lolo lolo lolo lolo lolo lolo lolo lolo lolo lolo lolo lolo lolo lolo lolo lolo lolo lolo lolo lolo lolo lolo lolo lolo lolo lolo lolo lolo lolo lolo lolo lolo lolo lolo lolo lolo lolo lolo lolo lolo lolo lolo lolo lolo lolo lolo lolo lolo lolo lolo lolo lolo lolo lolo lolo lolo lolo lolo lolo lolo lolo lolo lolo lolo lolo lolo lolo lolo lolo lolo lolo lolo lolo lolo lolo lolo lolo lolo lolo lolo lolo lolo lolo lolo lolo lolo lolo lolo lolo lolo lolo lolo lolo lolo lolo lolo lolo lolo lolo lolo lolo lolo lolo lolo lolo lolo lolo lolo lolo lolo lolo lolo lolo lolo lolo lolo lolo lolo lolo lolo lolo lolo lolo lolo lolo lolo lolo lolo lolo lolo lolo lolo lolo lolo lolo lolo lolo lolo lolo lolo lolo lolo lolo lolo lolo lolo lolo lolo lolo lolo lolo lolo lolo lolo lolo lolo lolo lolo lolo lolo lolo lolo lolo lolo lolo lolo lolo lolo lolo lolo lolo lolo lolo lolo lolo lolo lolo lolo lolo lolo lolo lolo lolo lolo lolo lolo lolo lolo lolo lolo lolo lolo lolo lolo lolo lolo lolo lolo lolo lolo lolo lolo lolo lolo lolo lolo lolo lolo lolo lolo lolo lolo lolo lolo lolo lolo lolo lolo lolo lolo lolo lolo lolo lolo lolo lolo lolo lolo lolo lolo lolo lolo lolo lolo lolo lolo lolo lolo lolo lolo lolo lolo lolo lolo lolo lolo lolo lolo lolo lolo lolo lolo "
     ]
    }
   ],
   "source": [
    "nombre=input('Ingresa tu nombre: ')\n",
    "for i in range(1,1000):\n",
    "    print(nombre,end=' ')"
   ]
  },
  {
   "cell_type": "code",
   "execution_count": 24,
   "metadata": {},
   "outputs": [
    {
     "name": "stdout",
     "output_type": "stream",
     "text": [
      "1\n",
      "1 2\n",
      "12\n",
      "1, 2\n",
      "1 2\n",
      "1 2\n"
     ]
    }
   ],
   "source": [
    "print('%d' %1)\n",
    "print('%d %d' %(1,2))\n",
    "print('%d%d' %(1,2))\n",
    "print('%d, %d' %(1,2))\n",
    "print(1,2)\n",
    "print('%d 2' %1)"
   ]
  },
  {
   "cell_type": "code",
   "execution_count": 26,
   "metadata": {},
   "outputs": [
    {
     "name": "stdout",
     "output_type": "stream",
     "text": [
      "El área del circulo es:  78.54\n"
     ]
    }
   ],
   "source": [
    "import numpy as np\n",
    "r=int(input('Ingresa el radio de una circunferencia: '))\n",
    "a=np.pi*r*r\n",
    "print('El área del circulo es: ',round(a,2))"
   ]
  },
  {
   "cell_type": "code",
   "execution_count": 16,
   "metadata": {},
   "outputs": [
    {
     "data": {
      "image/png": "[encoded data removed]",
      "text/plain": [
       "<Figure size 432x288 with 1 Axes>"
      ]
     },
     "metadata": {
      "needs_background": "light"
     },
     "output_type": "display_data"
    }
   ],
   "source": [
    "import matplotlib.pyplot as plt\n",
    "import numpy as np\n",
    "plt.plot(1000,1000)\n",
    "plt.hlines(y=100, xmin=100, xmax=900)\n",
    "plt.vlines(x=100, ymin=100, ymax=900)\n",
    "plt.hlines(y=900, xmin=100, xmax=900)\n",
    "plt.vlines(x=900, ymin=100, ymax=900)\n",
    "plt.hlines(y=100, xmin=100, xmax=900)\n",
    "plt.vlines(x=900, ymin=100, ymax=900)\n",
    "plt.show()"
   ]
  },
  {
   "cell_type": "code",
   "execution_count": 38,
   "metadata": {},
   "outputs": [
    {
     "data": {
      "image/png": "[encoded data removed]",
      "text/plain": [
       "<Figure size 432x288 with 1 Axes>"
      ]
     },
     "metadata": {
      "needs_background": "light"
     },
     "output_type": "display_data"
    }
   ],
   "source": [
    "import matplotlib.pyplot as plt\n",
    "fig, ax=plt.subplots()\n",
    "ax.plot([100,900,100,100,900,900,900,100],[100,900,900,100,100,900,100,900])\n",
    "ax.set_aspect(1)\n",
    "plt.show()"
   ]
  },
  {
   "cell_type": "code",
   "execution_count": 37,
   "metadata": {},
   "outputs": [
    {
     "data": {
      "image/png": "[encoded data removed]",
      "text/plain": [
       "<Figure size 432x288 with 1 Axes>"
      ]
     },
     "metadata": {
      "needs_background": "light"
     },
     "output_type": "display_data"
    }
   ],
   "source": [
    "import matplotlib.pyplot as plt\n",
    "fig, ax= plt.subplots()\n",
    "ax.plot([100,900],[500,500])\n",
    "ax.plot([500,500],[100,900])\n",
    "circulo1=plt.Circle((500,500),100)\n",
    "circulo2=plt.Circle((500,500),200,fill=False)\n",
    "circulo3=plt.Circle((500,500),300,fill=False)\n",
    "ax.set_aspect(1)\n",
    "ax.add_artist(circulo1)\n",
    "ax.add_artist(circulo2)\n",
    "ax.add_artist(circulo3)\n",
    "plt.show()"
   ]
  },
  {
   "cell_type": "code",
   "execution_count": 40,
   "metadata": {},
   "outputs": [
    {
     "name": "stdout",
     "output_type": "stream",
     "text": [
      "El numero es negativo\n"
     ]
    }
   ],
   "source": [
    "numero=float(input('Ingresa un numero: '))\n",
    "if(numero<0):\n",
    "    print('El numero es negativo')"
   ]
  },
  {
   "cell_type": "code",
   "execution_count": 41,
   "metadata": {},
   "outputs": [
    {
     "name": "stdout",
     "output_type": "stream",
     "text": [
      "El numero es positivo\n"
     ]
    }
   ],
   "source": [
    "numero=float(input('Ingresa un numero: '))\n",
    "if(numero>=0):\n",
    "    print('El numero es positivo')"
   ]
  },
  {
   "cell_type": "code",
   "execution_count": 43,
   "metadata": {},
   "outputs": [
    {
     "name": "stdout",
     "output_type": "stream",
     "text": [
      "Ambos tienen la misma edad\n"
     ]
    }
   ],
   "source": [
    "a=int(input('Ingresa la primera edad: '))\n",
    "b=int(input('Ingresa la segunda edad: '))\n",
    "r=a-b\n",
    "if(r>0):print('La primera edad es mayor')\n",
    "if(r<0):print('La segunda edad es mayor')\n",
    "if(r==0):print('Ambos tienen la misma edad')"
   ]
  },
  {
   "cell_type": "code",
   "execution_count": 3,
   "metadata": {},
   "outputs": [
    {
     "name": "stdout",
     "output_type": "stream",
     "text": [
      "Es un parentesis\n"
     ]
    }
   ],
   "source": [
    "a=input('Digita cualquier tecla y presiona ennter: ')\n",
    "if((a=='(')or(a==')')):\n",
    "    print('Es un parentesis')\n",
    "else:print('No es parenesis')\n"
   ]
  },
  {
   "cell_type": "code",
   "execution_count": 5,
   "metadata": {},
   "outputs": [
    {
     "name": "stdout",
     "output_type": "stream",
     "text": [
      "Es de las últimas del alfabeto\n"
     ]
    }
   ],
   "source": [
    "letra=input('Ingresar una letra minuscula: ')\n",
    "if letra<='k':print('Es de las primeras del alfabeto')\n",
    "if letra>='l':print('Es de las últimas del alfabeto')"
   ]
  },
  {
   "cell_type": "code",
   "execution_count": 10,
   "metadata": {},
   "outputs": [
    {
     "name": "stdout",
     "output_type": "stream",
     "text": [
      "Primer cuadrante\n"
     ]
    }
   ],
   "source": [
    "from math import ceil\n",
    "grados=float(input('Ingresar un angulo en grados: '))\n",
    "cuadrante=int(ceil(grados)%360)/90\n",
    "if cuadrante==0:print('Primer cuadrante')\n",
    "if cuadrante==1:print('Segundo cuadrante')\n",
    "if cuadrante==2:print('Tercer cuadrante')\n",
    "if cuadrante==3:print('Cuarto cuadrante')"
   ]
  },
  {
   "cell_type": "code",
   "execution_count": 12,
   "metadata": {},
   "outputs": [
    {
     "name": "stdout",
     "output_type": "stream",
     "text": [
      "Primer saludo\n",
      "Segundo saludo\n"
     ]
    }
   ],
   "source": [
    "if 14<120:print('Primer saludo')\n",
    "if '14'>'120':print('Segundo saludo')"
   ]
  },
  {
   "cell_type": "code",
   "execution_count": 14,
   "metadata": {},
   "outputs": [
    {
     "name": "stdout",
     "output_type": "stream",
     "text": [
      "El numero es par\n"
     ]
    }
   ],
   "source": [
    "a=int(input('Ingresa un numero:'))\n",
    "if a%2==0:print('El numero es par')\n",
    "else: print('El umero es impar')"
   ]
  },
  {
   "cell_type": "code",
   "execution_count": 22,
   "metadata": {},
   "outputs": [],
   "source": [
    "a=int(input('Ingrese un numero entero: '))\n",
    "b=a/2\n",
    "if b%2==1:print('El numero ingresado es el doble de un numero par')"
   ]
  },
  {
   "cell_type": "code",
   "execution_count": 25,
   "metadata": {},
   "outputs": [
    {
     "name": "stdout",
     "output_type": "stream",
     "text": [
      "El segundo es menor que el cuadrado del primero\n"
     ]
    }
   ],
   "source": [
    "a=int(input('Ingresa un numero entero: '))\n",
    "b=int(input('Ingresa otro numero entero: '))\n",
    "if(b==a*a):print('El segundo es el cuadrado exacto del primero')\n",
    "if(b<a*a):print('El segundo es menor que el cuadrado del primero')\n",
    "if(b>a*a):print('El segundo es mayor que el cuadrado del primero')"
   ]
  },
  {
   "cell_type": "code",
   "execution_count": 26,
   "metadata": {},
   "outputs": [
    {
     "name": "stdout",
     "output_type": "stream",
     "text": [
      "El Capital final sera:  19004963.77488081\n"
     ]
    }
   ],
   "source": [
    "k=float(input('Ingrese el capital en euros: '))\n",
    "i=float(input('Ingrese la tasa de interes: '))\n",
    "n=int(input('Ingrese la cantidad de años: '))\n",
    "C=k*(1+(i/100))**n\n",
    "print('El Capital final sera: ',C)"
   ]
  },
  {
   "cell_type": "code",
   "execution_count": 56,
   "metadata": {},
   "outputs": [
    {
     "name": "stdout",
     "output_type": "stream",
     "text": [
      "El monto de 8623 euros tiene:\n",
      "17 billete(s) de 500 euros\n",
      "1 billete(s) de 100 euros\n",
      "1 billete(s) de 20 euros\n",
      "1 moneda(s) de 2 euros\n",
      "1 moneda(s) de 1 euros\n"
     ]
    }
   ],
   "source": [
    "monto=int(input('Ingresa el monto del dinero: '))\n",
    "qui,mont1=monto/500,monto%500\n",
    "dos,mont2=mont1/200,mont1%200\n",
    "cie,mont3=mont2/100,mont2%100\n",
    "cin,mont4=mont3/50,mont3%50\n",
    "vei,mont5=mont4/20,mont4%20\n",
    "die,mont6=mont5/10,mont5%10\n",
    "c5n,mont7=mont6/5,mont6%5\n",
    "d2s,mont8=mont7/2,mont7%2\n",
    "uno,mont9=mont8/1,mont8%1\n",
    "print('El monto de',monto,'euros tiene:')\n",
    "if(int(qui)>0):print(int(qui),'billete(s) de 500 euros')\n",
    "if(int(dos)>0):print(int(dos),'billete(s) de 200 euros')\n",
    "if(int(cie)>0):print(int(cie),'billete(s) de 100 euros')\n",
    "if(int(cin)>0):print(int(cin),'billete(s) de 50 euros')\n",
    "if(int(vei)>0):print(int(vei),'billete(s) de 20 euros')\n",
    "if(int(die)>0):print(int(die),'billete(s) de 10 euros')\n",
    "if(int(c5n)>0):print(int(c5n),'billete(s) de 5 euros')\n",
    "if(int(d2s)>0):print(int(d2s),'moneda(s) de 2 euros')\n",
    "if(int(uno)>0):print(int(uno),'moneda(s) de 1 euros')\n",
    "\n"
   ]
  },
  {
   "cell_type": "code",
   "execution_count": 60,
   "metadata": {},
   "outputs": [
    {
     "name": "stdout",
     "output_type": "stream",
     "text": [
      "Para ax^2+bx+c=0\n",
      "(-0.625+1.0532687216470449j)\n",
      "(-0.625-1.0532687216470449j)\n"
     ]
    }
   ],
   "source": [
    "from cmath import sqrt\n",
    "print('Para ax^2+bx+c=0')\n",
    "a=float(input('Ingresa valor de a: '))\n",
    "b=float(input('Ingresa valor de b: '))\n",
    "c=float(input('Ingresa valor de c: '))\n",
    "if a==0 and b==0 and c==0:\n",
    "    print('La ecuacion tiene infinitas soluciones')\n",
    "else:\n",
    "    if a==0 and b==0:\n",
    "        print('La ecuacion no tiene solucion')\n",
    "    else:\n",
    "        if a==0:\n",
    "            x=-c/b\n",
    "            print('La solucion de la ecuacion es: x=%4.3f'%x)\n",
    "        else:\n",
    "            x1=(-b+sqrt(b**2-4*a*c))/(2*a)\n",
    "            x2=(-b-sqrt(b**2-4*a*c))/(2*a)\n",
    "            #print('Las soluciones de la ecuacion son: x1=%4.3f y x2=%4.3f'%(x1,x2))\n",
    "            print(x1)\n",
    "            print(x2)"
   ]
  },
  {
   "cell_type": "code",
   "execution_count": 11,
   "metadata": {},
   "outputs": [
    {
     "name": "stdout",
     "output_type": "stream",
     "text": [
      "Es minuscula\n"
     ]
    }
   ],
   "source": [
    "letra=input('Ingrese un letra, mayuscula o minuscula')\n",
    "if letra.isalpha():\n",
    "    if(letra==letra.upper()):print('Es mayuscula')\n",
    "    if(letra==letra.lower()):print('Es minuscula')\n",
    "else:print('No es una letra')"
   ]
  },
  {
   "cell_type": "code",
   "execution_count": 2,
   "metadata": {},
   "outputs": [
    {
     "name": "stdout",
     "output_type": "stream",
     "text": [
      "Ingrese 5 numero enteros.\n",
      "El numero mayor de ['4', '77', '5', '89', '4'] es: 89\n"
     ]
    }
   ],
   "source": [
    "print('Ingrese 5 numero enteros.')\n",
    "i=1\n",
    "numeros=[]\n",
    "while i<=5:\n",
    "    n=input('Ingrese un numero entero: ')\n",
    "    numeros.append(n)\n",
    "    i+=1\n",
    "print('El numero mayor de',numeros,'es:',max(numeros))"
   ]
  },
  {
   "cell_type": "code",
   "execution_count": 4,
   "metadata": {},
   "outputs": [
    {
     "name": "stdout",
     "output_type": "stream",
     "text": [
      "Ingrese 5 palabras.\n",
      "El numero mayor de ['errfh', 'rryryry', 'erteww', 'kjuk', 'l'] es: errfh\n"
     ]
    }
   ],
   "source": [
    "print('Ingrese 5 palabras.')\n",
    "i=1\n",
    "palabras=[]\n",
    "while i<=5:\n",
    "    n=input('Ingrese una palabra: ')\n",
    "    palabras.append(n)\n",
    "    i+=1\n",
    "print('El numero mayor de',palabras,'es:',min(palabras))"
   ]
  },
  {
   "cell_type": "code",
   "execution_count": 30,
   "metadata": {},
   "outputs": [
    {
     "name": "stdout",
     "output_type": "stream",
     "text": [
      "Ingrese 5 numero enteros.\n",
      "[2, 6, 4, 1, 10]\n",
      "El numero mas cercano al primero es el 1\n"
     ]
    }
   ],
   "source": [
    "print('Ingrese 5 numero enteros.')\n",
    "i=1\n",
    "numeros=[]\n",
    "while i<=5:\n",
    "    n=int(input('Ingrese un numero entero: '))\n",
    "    numeros.append(n)\n",
    "    i+=1\n",
    "print(numeros)\n",
    "x=numeros[0]\n",
    "numeros.pop(0)\n",
    "restos=[]\n",
    "for i in numeros:\n",
    "    a=x-i\n",
    "    restos.append(abs(a))\n",
    "ind=restos.index(min(restos))\n",
    "print('El numero mas cercano al primero es el',numeros[ind])"
   ]
  },
  {
   "cell_type": "code",
   "execution_count": 34,
   "metadata": {},
   "outputs": [
    {
     "name": "stdout",
     "output_type": "stream",
     "text": [
      "Para obtener 11000.0 de 11000.0 a una tasa de 5.0 porciento se necesitan 0 años.\n"
     ]
    }
   ],
   "source": [
    "from math import log\n",
    "ki=float(input('Ingrese el capital inicial: '))\n",
    "t=float(input('Ingrese la tasa de interes al 100%: '))\n",
    "ke=float(input('Ingrese el capital eperado: '))\n",
    "if t==0:print('Esto no tiene solucion')\n",
    "else:\n",
    "    if ke==ki:n=0\n",
    "    else:n=(log(ke)-log(ki))/log(1+(t/100))\n",
    "    print('Para obtener',ke,'de',ki,'a una tasa de',t,'porciento se necesitan',n,'años.')"
   ]
  },
  {
   "cell_type": "code",
   "execution_count": 37,
   "metadata": {},
   "outputs": [
    {
     "name": "stdout",
     "output_type": "stream",
     "text": [
      "Su nota cualitativa es de \"Suspenso\"\n"
     ]
    }
   ],
   "source": [
    "n=float(input('Ingresa la nota numerica del alumno: '))\n",
    "if(n<5):cuali='\"Suspenso\"'\n",
    "if(7>n>=5):cuali='\"Aprobado\"'\n",
    "if(8.5>n>=7):cuali='\"Notable\"'\n",
    "if(10>n>=8.5):cuali='\"Sobresaliente\"'\n",
    "if(n==10):cuali='\"Matricula de Honor\"'\n",
    "print('Su nota cualitativa es de',cuali)"
   ]
  },
  {
   "cell_type": "code",
   "execution_count": 50,
   "metadata": {},
   "outputs": [
    {
     "name": "stdout",
     "output_type": "stream",
     "text": [
      "Escoja un a opcion.\n",
      "a) Calcular el diametro\n",
      "b) ÇCalcular el perimetro\n",
      "c) Calcular el area\n"
     ]
    }
   ],
   "source": [
    "from math import pi\n",
    "radio=float(input('Ingrese el radio de un circulo: '))\n",
    "print('Escoja un a opcion.')\n",
    "print('a) Calcular el diametro')\n",
    "print('b) ÇCalcular el perimetro')\n",
    "print('c) Calcular el area')\n",
    "op=input('Opcion-->')\n",
    "if(op=='A','B','C'):op=op.lower()\n",
    "if(op=='a'):print('El diametro es: ',2*radio)\n",
    "if(op=='b'):print('El perimetro es: ',2*pi*radio)\n",
    "if(op=='c'):print('El area es: ',pi*radio*radio)\n",
    "#if(op!='a','A','b','B','c','C'):print('Ingrese la opcion correcta, vuelva a comenzar')"
   ]
  },
  {
   "cell_type": "code",
   "execution_count": 55,
   "metadata": {},
   "outputs": [
    {
     "name": "stdout",
     "output_type": "stream",
     "text": [
      "Hecho\n"
     ]
    }
   ],
   "source": [
    "i = 10\n",
    "while i <2:\n",
    "    i *= 2\n",
    "    print(i)\n",
    "print('Hecho')"
   ]
  },
  {
   "cell_type": "code",
   "execution_count": 56,
   "metadata": {},
   "outputs": [
    {
     "name": "stdout",
     "output_type": "stream",
     "text": [
      "6\n",
      "12\n",
      "18\n",
      "24\n",
      "30\n",
      "36\n",
      "42\n",
      "48\n",
      "54\n",
      "60\n",
      "66\n",
      "72\n",
      "78\n",
      "84\n",
      "90\n",
      "96\n",
      "102\n",
      "108\n",
      "114\n",
      "120\n",
      "126\n",
      "132\n",
      "138\n",
      "144\n",
      "150\n"
     ]
    }
   ],
   "source": [
    "i=6\n",
    "while i<=150:\n",
    "    if(i%6==0):print(i)\n",
    "    i+=1"
   ]
  },
  {
   "cell_type": "code",
   "execution_count": 58,
   "metadata": {},
   "outputs": [
    {
     "name": "stdout",
     "output_type": "stream",
     "text": [
      "Los multiplos de 8 entre 8 y 112 son:\n",
      "8\n",
      "16\n",
      "24\n",
      "32\n",
      "40\n",
      "48\n",
      "56\n",
      "64\n",
      "72\n",
      "80\n",
      "88\n",
      "96\n",
      "104\n",
      "112\n"
     ]
    }
   ],
   "source": [
    "n=int(input('Ingrese un valor para n: '))\n",
    "m=int(input('Ingrese un valor para m: '))\n",
    "print('Los multiplos de',n,'entre',n,'y',m*n,'son:')\n",
    "x=n\n",
    "while x<=m*n:\n",
    "    if(x%n==0):print(x)\n",
    "    x+=1"
   ]
  },
  {
   "cell_type": "code",
   "execution_count": 59,
   "metadata": {},
   "outputs": [
    {
     "name": "stdout",
     "output_type": "stream",
     "text": [
      "[1, 2, 4, 8, 16, 32, 64, 128, 256, 512, 1024, 2048, 4096, 8192, 16384, 32768, 65536, 131072, 262144, 524288, 1048576, 2097152, 4194304, 8388608, 16777216, 33554432, 67108864, 134217728, 268435456, 536870912, 1073741824]\n"
     ]
    }
   ],
   "source": [
    "i=0\n",
    "lst=[]\n",
    "while i<=30:\n",
    "    lst.append(2**i)\n",
    "    i+=1\n",
    "print(lst)"
   ]
  },
  {
   "cell_type": "code",
   "execution_count": 62,
   "metadata": {},
   "outputs": [
    {
     "name": "stdout",
     "output_type": "stream",
     "text": [
      "7 debe se menor o igual que 3\n"
     ]
    }
   ],
   "source": [
    "n=int(input('Ingresa el valor de n: '))\n",
    "m=int(input('Ingresa el valor de m: '))\n",
    "s=0\n",
    "if(n<=m):\n",
    "    while n<=m:\n",
    "        s+=n\n",
    "        n+=1\n",
    "    print(s)\n",
    "else:\n",
    "    print(n,'debe se menor o igual que',m)"
   ]
  },
  {
   "cell_type": "code",
   "execution_count": 70,
   "metadata": {},
   "outputs": [
    {
     "name": "stdout",
     "output_type": "stream",
     "text": [
      "El factorial de 16 es 20922789888000\n"
     ]
    }
   ],
   "source": [
    "n=int(input('Ingrese un numero entero: '))\n",
    "fac=1\n",
    "if(n==0):fac=1\n",
    "else:\n",
    "    i=1\n",
    "    while i<=n:\n",
    "        fac*=i\n",
    "        i+=1\n",
    "print('El factorial de',n,'es',fac)"
   ]
  },
  {
   "cell_type": "code",
   "execution_count": 72,
   "metadata": {},
   "outputs": [
    {
     "name": "stdout",
     "output_type": "stream",
     "text": [
      "3003.0\n"
     ]
    }
   ],
   "source": [
    "n=int(input('Ingresa el valor de n: '))\n",
    "m=int(input('Ingresa el valor de m: '))\n",
    "def factorial(x):\n",
    "    i=1\n",
    "    fac=1\n",
    "    while i<=x:\n",
    "        fac*=i\n",
    "        i+=1\n",
    "    return fac\n",
    "if(n>=m):\n",
    "    C=factorial(n)/(factorial(n-m)*factorial(m))\n",
    "    print(C)\n",
    "else:print('n debe ser mayor que n')\n"
   ]
  },
  {
   "cell_type": "code",
   "execution_count": 1,
   "metadata": {},
   "outputs": [],
   "source": [
    "n=int(input('Ingrese un  numero entre 0 y 10, inclusive: '))\n",
    "while n<0 or n>10:n=int(input('Ingrese un  numero entre 0 y 10, inclusive: '))"
   ]
  },
  {
   "cell_type": "code",
   "execution_count": 5,
   "metadata": {},
   "outputs": [],
   "source": [
    "#while(str.isupper()==True):input('Ingrese un texto sin mayúsculas: ')\n",
    "a=1\n",
    "while a==1:\n",
    "    str=input('Ingrese un texto sin mayúsculas: ')\n",
    "    for x in str:\n",
    "        if x.isupper()==True:\n",
    "            a=1\n",
    "            break\n",
    "        else:a=0\n",
    "        "
   ]
  },
  {
   "cell_type": "code",
   "execution_count": null,
   "metadata": {},
   "outputs": [],
   "source": [
    "from math import pi\n",
    "import os\n",
    "radio=float(input('Ingrese el radio de un circulo:'))\n",
    "opcion=''\n",
    "while opcion<'a' or opcion>'c':\n",
    "    print('Escoge una opcion:')\n",
    "    print('a) Calcular el diametro.')\n",
    "    print('b) Calcular el perimetro.')\n",
    "    print('c) Calcular el area.')\n",
    "    opcion=input('Ingresa la opcion a, b o c, luego presiona enter')\n",
    "    if opcion<'a' or opcion>'c':\n",
    "        print('Solo hay tres opciones, tu has tecleado ',opcion)\n",
    "if(opcion=='a'):print('El diametro es: ',2*radio)\n",
    "if(opcion=='b'):print('El perimetro es: ',2*pi*radio)\n",
    "if(opcion=='c'):print('El area es: ',pi*radio*radio)"
   ]
  },
  {
   "cell_type": "code",
   "execution_count": null,
   "metadata": {},
   "outputs": [],
   "source": [
    "from math import acos,pi,sqrt\n",
    "import os\n",
    "import sys\n",
    "op=0\n",
    "while op is not None:\n",
    "    print('1) Introducir el primer vector.')\n",
    "    print('2) Introducir el segundo vector.')\n",
    "    print('3) Calcular la suma.')\n",
    "    print('4) Calcular la diferencia')\n",
    "    print('5) Calcular el producto escalar.')\n",
    "    print('6) Calcular el producto vactorial.')\n",
    "    print('7) Calcular el angulo (en grados) entre ellos.')\n",
    "    print('8) Calcular la longitud.')\n",
    "    print('9) Finalizar.')\n",
    "    op=int(input('Ingrese una de las opciones:'))\n",
    "    if (op==1,2,3,4,5,6,7,8,9):\n",
    "        if(op==1):\n",
    "            x1=int(input('Ingrese el valor de x1:'))\n",
    "            y1=int(input('Ingrese el valor de y1:'))\n",
    "            z1=int(input('Ingrese el valor de z1:'))\n",
    "            op=0\n",
    "        elif(op==2):\n",
    "            x2=int(input('Ingrese el valor de x2:'))\n",
    "            y2=int(input('Ingrese el valor de y2:'))\n",
    "            z2=int(input('Ingrese el valor de z2:'))\n",
    "            op=0\n",
    "        elif(op==3):\n",
    "            s1=x1+x2\n",
    "            s2=y1+y2\n",
    "            s3=z1+z2\n",
    "            print('La suma de los vectores es (',s1,',',s2,',',s3,')')\n",
    "            op=0\n",
    "        elif(op==4):\n",
    "            dop=0\n",
    "            print('1) Primer vector menos segundo vector.')\n",
    "            print('2) Segundo vector menos primer vector.')\n",
    "            dop=int(input('Seleccione una opcion'))\n",
    "            while(dop==1 or dop==2):\n",
    "                if(dop==1):\n",
    "                    d1=x1-x2\n",
    "                    d2=y1-y2\n",
    "                    d3=z1-z2\n",
    "                    print('El primer vector menos el segundo vector es (',d1,',',d2,',',d3,')')\n",
    "                elif(dop==2):\n",
    "                    d1=x2-x1\n",
    "                    d2=y2-y1\n",
    "                    d3=z2-z1\n",
    "                    print('El segundo vector menos el primer vector es (',d1,',',d2,',',d3,')')\n",
    "                dop=0\n",
    "            op=0\n",
    "        elif(op==5):\n",
    "            pe=x1*x2+y1*y2+z1*z2\n",
    "            print('El producto escalar es',pe)\n",
    "            op=0\n",
    "        elif(op==6):\n",
    "            pop=0\n",
    "            print('1) Primer vector por segundo vector.')\n",
    "            print('2) Segundo vector por primer vector.')\n",
    "            pop=int(input('Seleccione una opcion'))\n",
    "            while(pop==1 or pop==2):\n",
    "                if(pop==1):\n",
    "                    pv1=y1*z2-z1*y2\n",
    "                    pv2=z1*x2-x1*z2\n",
    "                    pv3=x1*y2-y1*x2\n",
    "                    print('El primer vector por el segundo vector es (',pv1,',',pv2,',',pv3,')')\n",
    "                    \n",
    "                elif(pop==2):\n",
    "                    pv1=z1*y2-y1*z2\n",
    "                    pv2=x1*z2-z1*x2\n",
    "                    pv3=y1*x2-x1*y2\n",
    "                    print('El segundo vector por el primer vector es (',pv1,',',pv2,',',pv3,')')\n",
    "                pop=0\n",
    "            op=0\n",
    "        elif(op==7):\n",
    "            ang=(180/pi)*acos((x1*x2+y1*y2+z1*z2)/(sqrt(x1**2+y1**2+z1**2)*sqrt(x2**2+y2**2+z2**2)))\n",
    "            print('El àngulo entre ambos vectores es ',ang)\n",
    "            op=0\n",
    "        elif(op==8):\n",
    "            lop=0\n",
    "            print('1) La longitud del primer vector.')\n",
    "            print('2) La longitud del segundo vector.')\n",
    "            lop=int(input('Seleccione una opcion'))\n",
    "            while(lop==1 or lop==2):\n",
    "                if(lop==1):\n",
    "                    print('La longitud del primer vector es',sqrt(x1**2+y1**2+z1**2))\n",
    "                elif(lop==2):\n",
    "                    print('La longitud del segundo vector es',sqrt(x2**2+y2**2+z2**2))\n",
    "                lop=0\n",
    "            op=0\n",
    "        elif(op==9):\n",
    "            #op=None\n",
    "            print(quit())\n",
    "    os.system('clear')\n",
    "    print('\\n')"
   ]
  },
  {
   "cell_type": "code",
   "execution_count": 5,
   "metadata": {},
   "outputs": [
    {
     "name": "stdout",
     "output_type": "stream",
     "text": [
      "9 x 0 = 0\n",
      "9 x 1 = 9\n",
      "9 x 2 = 18\n",
      "9 x 3 = 27\n",
      "9 x 4 = 36\n",
      "9 x 5 = 45\n",
      "9 x 6 = 54\n",
      "9 x 7 = 63\n",
      "9 x 8 = 72\n",
      "9 x 9 = 81\n",
      "9 x 10 = 90\n",
      "9 x 11 = 99\n",
      "9 x 12 = 108\n"
     ]
    }
   ],
   "source": [
    "num=int(input('Dame un número: '))\n",
    "for i in range(13):\n",
    "    print(num,'x',i,'=',num*i)\n"
   ]
  },
  {
   "cell_type": "code",
   "execution_count": 8,
   "metadata": {},
   "outputs": [
    {
     "name": "stdout",
     "output_type": "stream",
     "text": [
      "La raiz enesima ( 145421 ) de 123548542514545415212 es 1.0003181832438326\n"
     ]
    }
   ],
   "source": [
    "num=int(input('Ingrese un numero:'))\n",
    "n=int(input('Ingrene el valor de n:'))\n",
    "raiz=num**(1/n)\n",
    "print('La raiz enesima (',n,') de',num,'es',raiz)\n"
   ]
  },
  {
   "cell_type": "code",
   "execution_count": 13,
   "metadata": {},
   "outputs": [
    {
     "name": "stdout",
     "output_type": "stream",
     "text": [
      "200\n",
      "198\n",
      "196\n",
      "194\n",
      "192\n",
      "190\n",
      "188\n",
      "186\n",
      "184\n",
      "182\n",
      "180\n",
      "178\n",
      "176\n",
      "174\n",
      "172\n",
      "170\n",
      "168\n",
      "166\n",
      "164\n",
      "162\n",
      "160\n",
      "158\n",
      "156\n",
      "154\n",
      "152\n",
      "150\n",
      "148\n",
      "146\n",
      "144\n",
      "142\n",
      "140\n",
      "138\n",
      "136\n",
      "134\n",
      "132\n",
      "130\n",
      "128\n",
      "126\n",
      "124\n",
      "122\n",
      "120\n",
      "118\n",
      "116\n",
      "114\n",
      "112\n",
      "110\n",
      "108\n",
      "106\n",
      "104\n",
      "102\n",
      "100\n",
      "98\n",
      "96\n",
      "94\n",
      "92\n",
      "90\n",
      "88\n",
      "86\n",
      "84\n",
      "82\n",
      "80\n",
      "78\n",
      "76\n",
      "74\n",
      "72\n",
      "70\n",
      "68\n",
      "66\n",
      "64\n",
      "62\n",
      "60\n",
      "58\n",
      "56\n",
      "54\n",
      "52\n",
      "50\n",
      "48\n",
      "46\n",
      "44\n",
      "42\n",
      "40\n",
      "38\n",
      "36\n",
      "34\n",
      "32\n",
      "30\n",
      "28\n",
      "26\n",
      "24\n",
      "22\n",
      "20\n",
      "18\n",
      "16\n",
      "14\n",
      "12\n",
      "10\n",
      "8\n",
      "6\n",
      "4\n",
      "2\n"
     ]
    }
   ],
   "source": [
    "for i in range(201,0,-1):\n",
    "    if(i%2==0):print(i) "
   ]
  },
  {
   "cell_type": "code",
   "execution_count": 22,
   "metadata": {},
   "outputs": [
    {
     "name": "stdout",
     "output_type": "stream",
     "text": [
      "La sumatoria entre 2 y 5 es:  14\n"
     ]
    }
   ],
   "source": [
    "num1=int(input('Ingresa un numero entero:'))\n",
    "num2=int(input('Ingresa otro numero entero:'))\n",
    "may=max(num1,num2)\n",
    "men=min(num1,num2)\n",
    "sum=0\n",
    "for i in range(may+1):\n",
    "    if(i>=men and i<=may):sum+=i\n",
    "print('La sumatoria entre',num1,'y',num2,'es: ',sum)"
   ]
  },
  {
   "cell_type": "code",
   "execution_count": 23,
   "metadata": {},
   "outputs": [
    {
     "name": "stdout",
     "output_type": "stream",
     "text": [
      "La sumatoria de los cuadrados entre 4 y 1 es:  30\n"
     ]
    }
   ],
   "source": [
    "num1=int(input('Ingresa un numero entero:'))\n",
    "num2=int(input('Ingresa otro numero entero:'))\n",
    "may=max(num1,num2)\n",
    "men=min(num1,num2)\n",
    "sum=0\n",
    "for i in range(may+1):\n",
    "    if(i>=men and i<=may):sum+=i**2\n",
    "print('La sumatoria de los cuadrados entre',num1,'y',num2,'es: ',sum)"
   ]
  },
  {
   "cell_type": "code",
   "execution_count": 24,
   "metadata": {},
   "outputs": [
    {
     "name": "stdout",
     "output_type": "stream",
     "text": [
      "La sumatoria de los pares entre 10 y 2 es:  30\n"
     ]
    }
   ],
   "source": [
    "num1=int(input('Ingresa un numero entero:'))\n",
    "num2=int(input('Ingresa otro numero entero:'))\n",
    "may=max(num1,num2)\n",
    "men=min(num1,num2)\n",
    "sum=0\n",
    "for i in range(may+1):\n",
    "    if(i>=men and i<=may and i%2==0):sum+=i\n",
    "print('La sumatoria de los pares entre',num1,'y',num2,'es: ',sum)"
   ]
  },
  {
   "cell_type": "code",
   "execution_count": 38,
   "metadata": {},
   "outputs": [
    {
     "name": "stdout",
     "output_type": "stream",
     "text": [
      "El máximo comun divisor de 3 , 4 y 5 es:  1\n"
     ]
    }
   ],
   "source": [
    "num1=int(input('Ingresa un numero entero:'))\n",
    "num2=int(input('Ingresa otro numero entero:'))\n",
    "num3=int(input('Ingresa el ultimo numero entero:'))\n",
    "for i in range(max(num1,num2,num3)):\n",
    "    j=i+1\n",
    "    if(num1%j==0 and num2%j==0 and num3%j==0):\n",
    "        mcd=j\n",
    "print('El máximo comun divisor de',num1,',',num2,'y',num3,'es: ',mcd)"
   ]
  },
  {
   "cell_type": "code",
   "execution_count": 50,
   "metadata": {},
   "outputs": [
    {
     "name": "stdout",
     "output_type": "stream",
     "text": [
      "547 es primo\n"
     ]
    }
   ],
   "source": [
    "n=int(input('Ingresa un numero entero:'))\n",
    "c=0\n",
    "for i in range(n):\n",
    "    if(n%(i+1)==0):c+=1\n",
    "if(c>2):print(n,'no es primo')\n",
    "else:print(n,'es primo')\n",
    "\n",
    "    "
   ]
  },
  {
   "cell_type": "code",
   "execution_count": 54,
   "metadata": {},
   "outputs": [
    {
     "name": "stdout",
     "output_type": "stream",
     "text": [
      "4\n",
      "5\n",
      "8\n",
      "6\n",
      "99\n",
      "99\n"
     ]
    }
   ],
   "source": [
    "n=0\n",
    "l1=[]\n",
    "while n>=0:\n",
    "    n=int(input('Ingresa un numero entero:'))\n",
    "    if(n>=0):\n",
    "        print(n)\n",
    "        l1.append(n)\n",
    "print(max(l1))"
   ]
  },
  {
   "cell_type": "code",
   "execution_count": 59,
   "metadata": {},
   "outputs": [
    {
     "name": "stdout",
     "output_type": "stream",
     "text": [
      "1 0\n",
      "2 0\n",
      "2 1\n",
      "3 0\n",
      "3 1\n",
      "3 2\n",
      "4 0\n",
      "4 1\n",
      "4 2\n",
      "4 3\n"
     ]
    }
   ],
   "source": [
    "for i in range(0,5):\n",
    "    for j in range(0,i):\n",
    "        print(i,j)"
   ]
  },
  {
   "cell_type": "code",
   "execution_count": 62,
   "metadata": {},
   "outputs": [
    {
     "name": "stdout",
     "output_type": "stream",
     "text": [
      "0 1 0\n",
      "0 2 0\n",
      "0 2 1\n",
      "0 3 0\n",
      "0 3 1\n",
      "0 3 2\n",
      "1 2 1\n",
      "1 3 1\n",
      "1 3 2\n",
      "2 3 2\n"
     ]
    }
   ],
   "source": [
    "for i in range(0,4):\n",
    "    for j in range(0,4):\n",
    "        for k in range(i,j):\n",
    "            print(i,j,k)"
   ]
  },
  {
   "cell_type": "code",
   "execution_count": 63,
   "metadata": {},
   "outputs": [
    {
     "name": "stdout",
     "output_type": "stream",
     "text": [
      "1 0\n",
      "1 1\n",
      "1 2\n",
      "1 3\n",
      "1 4\n",
      "1 5\n",
      "1 6\n",
      "1 7\n",
      "1 8\n",
      "1 9\n",
      "2 0\n",
      "2 2\n",
      "2 4\n",
      "2 6\n",
      "2 8\n",
      "3 0\n",
      "3 3\n",
      "3 6\n",
      "3 9\n",
      "4 0\n",
      "4 4\n",
      "4 8\n"
     ]
    }
   ],
   "source": [
    "for i in range(1,5):\n",
    "    for j in range(0,10,i):\n",
    "        print(i,j)"
   ]
  },
  {
   "cell_type": "code",
   "execution_count": 11,
   "metadata": {},
   "outputs": [
    {
     "data": {
      "image/png": "[encoded data removed]",
      "text/plain": [
       "<Figure size 432x288 with 1 Axes>"
      ]
     },
     "metadata": {
      "needs_background": "light"
     },
     "output_type": "display_data"
    }
   ],
   "source": [
    "import matplotlib.pyplot as plt\n",
    "from numpy import arange,sin,pi,cos\n",
    "a=float(input('Ingresa el primer valor del intervalo:'))\n",
    "b=float(input('Ingresa el segundo valor del intervalo:'))\n",
    "x=arange(a,b*pi,0.1)\n",
    "s=sin(x)\n",
    "c=cos(x)\n",
    "plt.plot(x,s,'r')\n",
    "plt.plot(x,c,'b')\n",
    "#plt.grid(axis='both')\n",
    "plt.xlabel('X')\n",
    "plt.ylabel('Y')\n",
    "plt.show()"
   ]
  },
  {
   "cell_type": "code",
   "execution_count": 37,
   "metadata": {},
   "outputs": [
    {
     "data": {
      "image/png": "[encoded data removed]",
      "text/plain": [
       "<Figure size 432x288 with 1 Axes>"
      ]
     },
     "metadata": {
      "needs_background": "light"
     },
     "output_type": "display_data"
    }
   ],
   "source": [
    "import matplotlib.pyplot as plt\n",
    "import numpy as np\n",
    "def f(x):\n",
    "    return 1/(x+1)\n",
    "xlist=np.linspace(-10,10,num=1000)\n",
    "ylist=f(xlist)\n",
    "#plt.figure(num=0,dpi=120)\n",
    "plt.plot(xlist,ylist,marker='o',color='blue',markersize=5)\n",
    "plt.plot(-1,0,marker='o',color='red',markersize=5)\n",
    "plt.show()"
   ]
  },
  {
   "cell_type": "code",
   "execution_count": 3,
   "metadata": {},
   "outputs": [
    {
     "data": {
      "image/png": "[encoded data removed]",
      "text/plain": [
       "<Figure size 432x288 with 1 Axes>"
      ]
     },
     "metadata": {
      "needs_background": "light"
     },
     "output_type": "display_data"
    }
   ],
   "source": [
    "import matplotlib.pyplot as plt\n",
    "import numpy as np\n",
    "from sympy import *\n",
    "from sympy.abc import x\n",
    "z1=float(input('Ingresa el primer valor del intervalo:'))\n",
    "z2=float(input('Ingresa el segundo valor del intervalo:'))\n",
    "def f(x,a,b,c):\n",
    "    return a*x**2+b*x+c\n",
    "xlist=np.linspace(z1,z2,num=1000)\n",
    "ylist=f(xlist,3,1,4)\n",
    "#plt.figure(num=0,dpi=120)\n",
    "plt.plot(xlist,ylist)\n",
    "plt.show()\n",
    "def maxminf(f):\n",
    "    df=diff(f,x)\n",
    "    d2f=diff(f,x,2)\n",
    "    pcs=solve(Eq(df,0))\n",
    "    for p in pcs:\n",
    "        if d2f.subs(x,p)>0:\n",
    "            tipo='Min'\n",
    "        elif d2f.subs(x,p)<0:\n",
    "            tipo='Max'\n",
    "        else:\n",
    "            tipo='Indefinido'\n",
    "        print('x= %f (%s)'%(p,tipo))\n",
    "maxminf(ylist)"
   ]
  },
  {
   "cell_type": "code",
   "execution_count": 8,
   "metadata": {},
   "outputs": [
    {
     "name": "stdout",
     "output_type": "stream",
     "text": [
      "\\\\\n",
      "kctal\n",
      "\t\tuno\n"
     ]
    }
   ],
   "source": [
    "print('\\\\\\\\')\n",
    "print('\\153\\143\\164\\141\\154')\n",
    "print('\\t\\tuna\\bo')"
   ]
  },
  {
   "cell_type": "code",
   "execution_count": 10,
   "metadata": {},
   "outputs": [
    {
     "name": "stdout",
     "output_type": "stream",
     "text": [
      "\u0007\n"
     ]
    }
   ],
   "source": [
    "print('\\a')"
   ]
  },
  {
   "cell_type": "code",
   "execution_count": 13,
   "metadata": {},
   "outputs": [
    {
     "name": "stdout",
     "output_type": "stream",
     "text": [
      "\\0\n",
      "\\1\n",
      "\\2\n",
      "\\3\n",
      "\\4\n",
      "\\5\n",
      "\\6\n",
      "\\7\n",
      "\\8\n"
     ]
    }
   ],
   "source": [
    "for i in range(9):\n",
    "    print('\\%i'%i)"
   ]
  },
  {
   "cell_type": "code",
   "execution_count": 25,
   "metadata": {},
   "outputs": [
    {
     "name": "stdout",
     "output_type": "stream",
     "text": [
      "externocleidomastoideo\n",
      "oediotsamodielconretxe\n"
     ]
    }
   ],
   "source": [
    "a='externocleidomastoideo'\n",
    "b=''\n",
    "for i in range(len(a)):\n",
    "    b+=a[-(i+1)]\n",
    "print(a)\n",
    "print(b)"
   ]
  },
  {
   "cell_type": "code",
   "execution_count": 35,
   "metadata": {},
   "outputs": [
    {
     "name": "stdout",
     "output_type": "stream",
     "text": [
      "Frase:                                        \n",
      "El numero de espacios en blanco es 38\n"
     ]
    }
   ],
   "source": [
    "str=input('Ingresa una frase:')\n",
    "b=0\n",
    "for i in range(len(str)):\n",
    "   if(str[i]==' '):b+=1\n",
    "print('Frase: ',str)\n",
    "print('El numero de espacios en blanco es',b) "
   ]
  },
  {
   "cell_type": "code",
   "execution_count": 30,
   "metadata": {},
   "outputs": [
    {
     "name": "stdout",
     "output_type": "stream",
     "text": [
      "Frase:  dfgdfgTdgvdfgdf\n",
      "El numero de mayusculas en la frase es 1\n"
     ]
    }
   ],
   "source": [
    "str=input('Ingresa una frase:')\n",
    "m=0\n",
    "for i in str:\n",
    "   if(i.isupper()==True):m+=1\n",
    "print('Frase: ',str)\n",
    "print('El numero de mayusculas en la frase es',m) "
   ]
  },
  {
   "cell_type": "code",
   "execution_count": 33,
   "metadata": {},
   "outputs": [
    {
     "name": "stdout",
     "output_type": "stream",
     "text": [
      "Contiene digito\n"
     ]
    }
   ],
   "source": [
    "str=input('Ingresa una frase:')\n",
    "d=0\n",
    "for i in str:\n",
    "   if(i.isdigit()==True):d+=1\n",
    "if d>=1:print('Contiene digito')\n",
    "else:print('No contiene digito')\n"
   ]
  },
  {
   "cell_type": "code",
   "execution_count": 1,
   "metadata": {},
   "outputs": [
    {
     "name": "stdout",
     "output_type": "stream",
     "text": [
      "Dada una cadena que contiene caracteres en mayúsculas y minúsculas. La tarea consiste en contar el número de caracteres en mayúsculas y minúsculas en él sin utilizar funciones integradas. Contar los caracteres en mayúsculas y minúsculas de una cadena se puede hacer fácilmente usando las funciones isupper()y islower(), consulte esto . Pero hacer lo mismo sin la ayuda de ninguna función incorporada es bastante emocionante. Veamos cómo se puede hacer esto.\n",
      "El numero de palabras de la frase es de:  71\n"
     ]
    }
   ],
   "source": [
    "str=input('Ingrese un frase:')\n",
    "pal=''\n",
    "c=0\n",
    "for i in range(len(str)):\n",
    "   if(str[i]==' '):c+=1\n",
    "print(str)\n",
    "print('El numero de palabras de la frase es de: ',c+1) "
   ]
  },
  {
   "cell_type": "code",
   "execution_count": 49,
   "metadata": {},
   "outputs": [
    {
     "name": "stdout",
     "output_type": "stream",
     "text": [
      "Dada\n",
      "una\n",
      "cadena\n",
      "que\n",
      "contiene\n",
      "caracteres\n",
      "en\n",
      "mayúsculas\n",
      "y\n",
      "minúsculas.\n",
      "La\n",
      "tarea\n",
      "consiste\n",
      "en\n",
      "contar\n",
      "el\n",
      "número\n",
      "de\n",
      "caracteres\n",
      "en\n",
      "mayúsculas\n",
      "y\n",
      "minúsculas\n",
      "en\n",
      "él\n",
      "sin\n",
      "utilizar\n",
      "funciones\n",
      "integradas.\n",
      "Contar\n",
      "los\n",
      "caracteres\n",
      "en\n",
      "mayúsculas\n",
      "y\n",
      "minúsculas\n",
      "de\n",
      "una\n",
      "cadena\n",
      "se\n",
      "puede\n",
      "hacer\n",
      "fácilmente\n",
      "usando\n",
      "las\n",
      "funciones\n",
      "isupper()y\n",
      "islower(),\n",
      "consulte\n",
      "esto\n",
      ".\n",
      "Pero\n",
      "hacer\n",
      "lo\n",
      "mismo\n",
      "sin\n",
      "la\n",
      "ayuda\n",
      "de\n",
      "ninguna\n",
      "función\n",
      "incorporada\n",
      "es\n",
      "bastante\n",
      "emocionante.\n",
      "Veamos\n",
      "cómo\n",
      "se\n",
      "puede\n",
      "hacer\n",
      "esto.\n",
      "El numero de palabras con 6 letras de la frase es: 7\n"
     ]
    }
   ],
   "source": [
    "str=input('Ingrese un frase:')\n",
    "num=int(input('Igrese un numero entero:'))\n",
    "pal=''\n",
    "c=0\n",
    "a=0\n",
    "str2=str\n",
    "for i in range(len(str)):\n",
    "    if(str[i]==' '):\n",
    "       pal=str2[a:i]\n",
    "       print(pal)\n",
    "       if(len(pal)==num):c+=1\n",
    "       a=i+1\n",
    "print(str2[a:])\n",
    "if(len(str2[a:])==num):c+=1\n",
    "print('El numero de palabras con',num,'letras de la frase es:',c) "
   ]
  },
  {
   "cell_type": "code",
   "execution_count": 51,
   "metadata": {},
   "outputs": [
    {
     "name": "stdout",
     "output_type": "stream",
     "text": [
      "La frase contiene 1 digitos\n"
     ]
    }
   ],
   "source": [
    "str=input('Ingrese un frase:')\n",
    "c=0\n",
    "for i in range(len(str)):\n",
    "    if(str[i].isdigit()==True):c+=1\n",
    "print('La frase contiene',c,'digitos') "
   ]
  },
  {
   "cell_type": "code",
   "execution_count": 3,
   "metadata": {},
   "outputs": [
    {
     "name": "stdout",
     "output_type": "stream",
     "text": [
      "La frase contiene 9 digitos\n"
     ]
    }
   ],
   "source": [
    "str=input('Ingrese un frase:')\n",
    "c=0\n",
    "for i in range(len(str)):\n",
    "    if(str[i].isdigit()==True):c+=1\n",
    "print('La frase contiene',c,'digitos') "
   ]
  },
  {
   "cell_type": "code",
   "execution_count": 2,
   "metadata": {},
   "outputs": [
    {
     "name": "stdout",
     "output_type": "stream",
     "text": [
      "53\n",
      "9\n"
     ]
    }
   ],
   "source": [
    "a=input('Ingrese un frase:')\n",
    "print(len([x for x in a if x.isalnum()]))\n",
    "print(sum(1 for c in a if c.isdigit()))"
   ]
  },
  {
   "cell_type": "code",
   "execution_count": 14,
   "metadata": {},
   "outputs": [
    {
     "name": "stdout",
     "output_type": "stream",
     "text": [
      "[['5', '6'], ['6', '7', '8', '9']]\n",
      "La frase contiene 3 numeros\n"
     ]
    }
   ],
   "source": [
    "str=input('Ingrese un frase:')\n",
    "c=0\n",
    "numeros=[]\n",
    "lst=[]\n",
    "for i in range(len(str)):\n",
    "    if(str[i].isdigit()==True):numeros.append(str[i])\n",
    "    if(str[i].isalpha()==True):\n",
    "        if(len(numeros)>0):\n",
    "            lst.append(numeros)\n",
    "            numeros=[]\n",
    "print(lst)\n",
    "if(str[-1].isdigit()==True):print('La frase contiene',len(lst)+1,'numeros') \n",
    "else:print('La frase contiene',len(lst),'numeros') "
   ]
  },
  {
   "cell_type": "code",
   "execution_count": 22,
   "metadata": {},
   "outputs": [
    {
     "name": "stdout",
     "output_type": "stream",
     "text": [
      " no es entero\n"
     ]
    }
   ],
   "source": [
    "str=input('Ingrese un frase:')\n",
    "if(str.isnumeric()==True):\n",
    "    x=int(str)\n",
    "    print(x,'es entero') \n",
    "else:print(str,'no es entero')"
   ]
  },
  {
   "cell_type": "code",
   "execution_count": 23,
   "metadata": {},
   "outputs": [
    {
     "name": "stdout",
     "output_type": "stream",
     "text": [
      "-45 no es entero\n"
     ]
    }
   ],
   "source": [
    "str=input('Ingrese un frase:')\n",
    "if(str.isalnum()==True):\n",
    "    x=int(str)\n",
    "    print(x,'es entero') \n",
    "else:print(str,'no es entero')"
   ]
  },
  {
   "cell_type": "code",
   "execution_count": 37,
   "metadata": {},
   "outputs": [
    {
     "name": "stdout",
     "output_type": "stream",
     "text": [
      "1111\n",
      "El numero 1111 en base decimal es 15\n"
     ]
    }
   ],
   "source": [
    "base=int(input('Ingrese la base del sistema a evaluar:'))\n",
    "str=input('Ingrese el numero en la base ingresada:')\n",
    "str1=''.join(reversed(str))\n",
    "print(str1)\n",
    "\n",
    "dec=0\n",
    "for i in range(len(str1)):\n",
    "    dec=dec+int(str1[i])*base**i\n",
    "print('El numero',str,'en base decimal es',dec)"
   ]
  },
  {
   "cell_type": "code",
   "execution_count": 42,
   "metadata": {},
   "outputs": [
    {
     "name": "stdout",
     "output_type": "stream",
     "text": [
      "lolo no es palindromo\n"
     ]
    }
   ],
   "source": [
    "a=input('Ingrese el numero en la base ingresada:')\n",
    "b=''.join(reversed(a))\n",
    "if(a==b):print(a,'es palindromo')\n",
    "else:print(a,'no es palindromo')"
   ]
  },
  {
   "cell_type": "code",
   "execution_count": 39,
   "metadata": {},
   "outputs": [
    {
     "name": "stdout",
     "output_type": "stream",
     "text": [
      "xyz789\n",
      "bcd123\n"
     ]
    }
   ],
   "source": [
    "cad=input('Ingrese una frase a criptografiar:')\n",
    "mov=int(input('Ingrese el numero de ovimiento:'))\n",
    "cad=cad.lower()\n",
    "cad1=''\n",
    "for x in cad:\n",
    "    if(x.isalpha()==True):\n",
    "        n=ord(x)+mov\n",
    "        if(n>122):n=n-122+96\n",
    "        x=chr(n)\n",
    "    if(x.isdigit()==True):\n",
    "        x=str((int(x)+mov)%10)\n",
    "    cad1+=x\n",
    "print(cad)\n",
    "print(cad1)"
   ]
  },
  {
   "cell_type": "code",
   "execution_count": 36,
   "metadata": {},
   "outputs": [
    {
     "name": "stdout",
     "output_type": "stream",
     "text": [
      "97\n"
     ]
    }
   ],
   "source": [
    "a='a'\n",
    "print(ord(a))"
   ]
  },
  {
   "cell_type": "code",
   "execution_count": 40,
   "metadata": {},
   "outputs": [
    {
     "name": "stdout",
     "output_type": "stream",
     "text": [
      "ejemplo\n"
     ]
    }
   ],
   "source": [
    "a='ejemplo'\n",
    "print(a[:])"
   ]
  },
  {
   "cell_type": "code",
   "execution_count": 55,
   "metadata": {},
   "outputs": [
    {
     "name": "stdout",
     "output_type": "stream",
     "text": [
      "\n",
      "U\n",
      "UJ\n",
      "UJI\n",
      "UJI1\n",
      "UJI12\n",
      "UJI123\n",
      "UJI1234\n",
      "UJI12345\n",
      "UJI123456\n",
      "UJI1234567\n",
      "UJI12345678\n",
      "UJI123456789\n"
     ]
    }
   ],
   "source": [
    "a='UJI123456789'\n",
    "for i in range(len(a)+1):\n",
    "    print(a[:i])"
   ]
  },
  {
   "cell_type": "code",
   "execution_count": 4,
   "metadata": {},
   "outputs": [
    {
     "name": "stdout",
     "output_type": "stream",
     "text": [
      "123\n",
      "234\n",
      "345\n",
      "456\n"
     ]
    }
   ],
   "source": [
    "c=input('Ingrese una cadena:')\n",
    "s=''\n",
    "j=2\n",
    "for i in range(len(c)):\n",
    "    s=c[i:3+i]\n",
    "    if(len(s)==3):\n",
    "        print(s)\n",
    "        s=''"
   ]
  },
  {
   "cell_type": "code",
   "execution_count": 6,
   "metadata": {},
   "outputs": [
    {
     "name": "stdout",
     "output_type": "stream",
     "text": [
      "12345\n",
      "23456\n",
      "34567\n",
      "45678\n",
      "56789\n"
     ]
    }
   ],
   "source": [
    "c=input('Ingrese una cadena:')\n",
    "k=int(input('Ingrese longitud de subcadena'))\n",
    "s=''\n",
    "for i in range(len(c)):\n",
    "    s=c[i:k+i]\n",
    "    if(len(s)==k):\n",
    "        print(s)\n",
    "        s=''"
   ]
  },
  {
   "cell_type": "code",
   "execution_count": 9,
   "metadata": {},
   "outputs": [
    {
     "name": "stdout",
     "output_type": "stream",
     "text": [
      "ma es sub cadena de mi mama\n"
     ]
    }
   ],
   "source": [
    "c1=input('Ingrese una cadena:')\n",
    "c2=input('Ingrese otra cadena:')\n",
    "s=''\n",
    "a=0\n",
    "for i in range(len(c1)):\n",
    "    s=c1[i:(len(c2)+i)]\n",
    "    if(s==c2):a+=1\n",
    "if(a>0):print(c2,'es sub cadena de',c1)\n",
    "else:print(\"'\"+c2+\"'\",'no es sub cadena de',\"'\"+c1+\"'\")"
   ]
  },
  {
   "cell_type": "code",
   "execution_count": 10,
   "metadata": {},
   "outputs": [
    {
     "name": "stdout",
     "output_type": "stream",
     "text": [
      "d\n"
     ]
    }
   ],
   "source": [
    "a='cadena'\n",
    "b=a[2:3]\n",
    "c=b+''\n",
    "print(c)"
   ]
  },
  {
   "cell_type": "code",
   "execution_count": 12,
   "metadata": {},
   "outputs": [
    {
     "name": "stdout",
     "output_type": "stream",
     "text": [
      "ababab\n",
      "ababab\n",
      "abababababab\n"
     ]
    }
   ],
   "source": [
    "a='ab'\n",
    "a*=3\n",
    "b=a\n",
    "c=a[:]\n",
    "c=c+b\n",
    "print(a)\n",
    "print(b)\n",
    "print(c)"
   ]
  },
  {
   "cell_type": "code",
   "execution_count": 14,
   "metadata": {},
   "outputs": [
    {
     "name": "stdout",
     "output_type": "stream",
     "text": [
      "[1, 2, 3]\n",
      "[1, 2, 3]\n"
     ]
    }
   ],
   "source": [
    "x=[1,2,3]\n",
    "y=x[:]\n",
    "z=x\n",
    "print(y)\n",
    "print(z)"
   ]
  },
  {
   "cell_type": "code",
   "execution_count": 15,
   "metadata": {},
   "outputs": [
    {
     "name": "stdout",
     "output_type": "stream",
     "text": [
      "Principio\n",
      "y fin\n"
     ]
    }
   ],
   "source": [
    "print('Principio')\n",
    "for i in []:\n",
    "    print('paso',i)\n",
    "print('y fin')"
   ]
  },
  {
   "cell_type": "code",
   "execution_count": 18,
   "metadata": {},
   "outputs": [
    {
     "name": "stdout",
     "output_type": "stream",
     "text": [
      "1\n",
      "1\n",
      "1\n",
      "1\n",
      "1\n",
      "1\n",
      "1\n",
      "1\n",
      "1\n",
      "1\n",
      "[1, 1, 1, 1, 1, 1, 1, 1, 1, 1]\n"
     ]
    }
   ],
   "source": [
    "for i in [1]*10:\n",
    "    print(i)\n",
    "print([1]*10)"
   ]
  },
  {
   "cell_type": "code",
   "execution_count": 33,
   "metadata": {},
   "outputs": [
    {
     "data": {
      "text/plain": [
       "False"
      ]
     },
     "execution_count": 33,
     "metadata": {},
     "output_type": "execute_result"
    }
   ],
   "source": [
    "[1,2]<[0]"
   ]
  },
  {
   "cell_type": "code",
   "execution_count": 37,
   "metadata": {},
   "outputs": [
    {
     "data": {
      "text/plain": [
       "True"
      ]
     },
     "execution_count": 37,
     "metadata": {},
     "output_type": "execute_result"
    }
   ],
   "source": [
    "a=[1,2,3]\n",
    "a is a\n",
    "a + [] is a\n",
    "a + [] == a"
   ]
  },
  {
   "cell_type": "code",
   "execution_count": 40,
   "metadata": {},
   "outputs": [
    {
     "data": {
      "text/plain": [
       "False"
      ]
     },
     "execution_count": 40,
     "metadata": {},
     "output_type": "execute_result"
    }
   ],
   "source": [
    "a=[1,2,1]\n",
    "b=[1,2,1]\n",
    "(a[0] is b[0]) and (a[1] is b[1]) and (a[2] is b[2])\n",
    "a==b\n",
    "a is b"
   ]
  },
  {
   "cell_type": "code",
   "execution_count": 47,
   "metadata": {},
   "outputs": [
    {
     "data": {
      "text/plain": [
       "False"
      ]
     },
     "execution_count": 47,
     "metadata": {},
     "output_type": "execute_result"
    }
   ],
   "source": [
    "[1,2]==[1,2]\n",
    "[1,2] is [1,2]\n",
    "a=[1,2,3]\n",
    "b=[a[0],a[1],a[2]]\n",
    "a==b\n",
    "a is b\n",
    "a[0]==b[1]\n",
    "b is [b[0],b[1],b[2]]"
   ]
  },
  {
   "cell_type": "code",
   "execution_count": 56,
   "metadata": {},
   "outputs": [
    {
     "data": {
      "text/plain": [
       "False"
      ]
     },
     "execution_count": 56,
     "metadata": {},
     "output_type": "execute_result"
    }
   ],
   "source": [
    "a=[1,2,3,4,5]\n",
    "b=a[1:3]\n",
    "c=a\n",
    "d=a[:]\n",
    "a==c\n",
    "a==d\n",
    "c==d\n",
    "a==b\n",
    "a is c\n",
    "a is d\n",
    "c is d\n",
    "a is b"
   ]
  },
  {
   "cell_type": "code",
   "execution_count": 59,
   "metadata": {},
   "outputs": [
    {
     "name": "stdout",
     "output_type": "stream",
     "text": [
      "[1, 4, 9]\n"
     ]
    }
   ],
   "source": [
    "l1=[]\n",
    "for i in range(1,4):\n",
    "    l1.append((i**2))\n",
    "print(l1)\n",
    "    "
   ]
  },
  {
   "cell_type": "code",
   "execution_count": 73,
   "metadata": {},
   "outputs": [
    {
     "name": "stdout",
     "output_type": "stream",
     "text": [
      "range(1, 4)\n",
      "[1, 2, 3, 1, 2, 3]\n"
     ]
    }
   ],
   "source": [
    "a=range(1,4)\n",
    "print(a)\n",
    "print(list(a)+list(a))"
   ]
  },
  {
   "cell_type": "code",
   "execution_count": 2,
   "metadata": {},
   "outputs": [
    {
     "ename": "TypeError",
     "evalue": "'range' object does not support item assignment",
     "output_type": "error",
     "traceback": [
      "\u001b[0;31m---------------------------------------------------------------------------\u001b[0m",
      "\u001b[0;31mTypeError\u001b[0m                                 Traceback (most recent call last)",
      "\u001b[1;32m/home/dcabrerar/Ejercicios400/Ejercicios-de-Python-400-/ejercicios.ipynb Celda 106\u001b[0m in \u001b[0;36m<cell line: 8>\u001b[0;34m()\u001b[0m\n\u001b[1;32m      <a href='vscode-notebook-cell:/home/dcabrerar/Ejercicios400/Ejercicios-de-Python-400-/ejercicios.ipynb#Y210sZmlsZQ%3D%3D?line=5'>6</a>\u001b[0m f\u001b[39m=\u001b[39mb[:\u001b[39m1\u001b[39m]\n\u001b[1;32m      <a href='vscode-notebook-cell:/home/dcabrerar/Ejercicios400/Ejercicios-de-Python-400-/ejercicios.ipynb#Y210sZmlsZQ%3D%3D?line=6'>7</a>\u001b[0m g\u001b[39m=\u001b[39mb[\u001b[39m0\u001b[39m]\n\u001b[0;32m----> <a href='vscode-notebook-cell:/home/dcabrerar/Ejercicios400/Ejercicios-de-Python-400-/ejercicios.ipynb#Y210sZmlsZQ%3D%3D?line=7'>8</a>\u001b[0m c[\u001b[39m0\u001b[39m]\u001b[39m=\u001b[39m\u001b[39m100\u001b[39m\n\u001b[1;32m      <a href='vscode-notebook-cell:/home/dcabrerar/Ejercicios400/Ejercicios-de-Python-400-/ejercicios.ipynb#Y210sZmlsZQ%3D%3D?line=8'>9</a>\u001b[0m d[\u001b[39m0\u001b[39m]\u001b[39m=\u001b[39m\u001b[39m200\u001b[39m\n\u001b[1;32m     <a href='vscode-notebook-cell:/home/dcabrerar/Ejercicios400/Ejercicios-de-Python-400-/ejercicios.ipynb#Y210sZmlsZQ%3D%3D?line=9'>10</a>\u001b[0m e[\u001b[39m0\u001b[39m]\u001b[39m=\u001b[39m\u001b[39m300\u001b[39m\n",
      "\u001b[0;31mTypeError\u001b[0m: 'range' object does not support item assignment"
     ]
    }
   ],
   "source": [
    "a=range(0,5)\n",
    "b=range(0,5)\n",
    "c=a\n",
    "d=b[:]\n",
    "e=a+b\n",
    "f=b[:1]\n",
    "g=b[0]\n",
    "c[0]=100\n",
    "d[0]=200\n",
    "e[0]=300\n",
    "print(a,b,c,d,e,f,g)"
   ]
  },
  {
   "cell_type": "code",
   "execution_count": 4,
   "metadata": {},
   "outputs": [
    {
     "name": "stdout",
     "output_type": "stream",
     "text": [
      "[5, 6, 6, 5, 8, 4, 8, 1, 9, 45]\n"
     ]
    }
   ],
   "source": [
    "n=0\n",
    "l=[]\n",
    "for i in range(0,10):\n",
    "    n=int(input('Ingresar un numero entero positivo:'))\n",
    "    while(n<0):n=int(input('Ingresar un numero entero positivo:'))\n",
    "    l.append(n)\n",
    "print(l)"
   ]
  },
  {
   "cell_type": "code",
   "execution_count": 35,
   "metadata": {},
   "outputs": [
    {
     "name": "stdout",
     "output_type": "stream",
     "text": [
      "['una', 'frase', 'formada', 'con', 'palabras', 'otra', 'otras']\n"
     ]
    }
   ],
   "source": [
    "str1=input('Ingrese una frase:')\n",
    "str1=str1.lower()\n",
    "p=''\n",
    "l1=[]\n",
    "for i in str1:\n",
    "    if(i.isalpha()==True):\n",
    "        p+=i\n",
    "    else:\n",
    "        if(p.isalpha()==True):\n",
    "            if p not in l1:\n",
    "                l1.append(p)\n",
    "            p=''\n",
    "if(p.isalpha()==True):\n",
    "    if p not in l1:l1.append(p)\n",
    "print(l1)\n",
    "    "
   ]
  },
  {
   "cell_type": "code",
   "execution_count": 3,
   "metadata": {},
   "outputs": [
    {
     "name": "stdout",
     "output_type": "stream",
     "text": [
      "[1, 2, 1, 5, 0, 3]\n",
      "['x', 2, 'x', 5, 'x', 3]\n",
      "[2, 5, 3]\n"
     ]
    }
   ],
   "source": [
    "from os import remove\n",
    "\n",
    "from numpy import append\n",
    "\n",
    "\n",
    "l=[1,2,1,5,0,3]\n",
    "print(l)\n",
    "for i in range(len(l)):\n",
    "    if(i%2==0):l[i]='x'\n",
    "print(l)\n",
    "i=0\n",
    "while(i<len(l)):\n",
    "    if(l[i]=='x'):l.pop(i)\n",
    "    else:i+=1\n",
    "print(l)"
   ]
  },
  {
   "cell_type": "code",
   "execution_count": 5,
   "metadata": {},
   "outputs": [
    {
     "name": "stdout",
     "output_type": "stream",
     "text": [
      "[1, -2, 1, -5, 0, 3]\n",
      "[1, 'x', 1, -5, 'x', 3]\n",
      "[1, 1, -5, 3]\n"
     ]
    }
   ],
   "source": [
    "l=[1,-2,1,-5,0,3]\n",
    "print(l)\n",
    "for i in range(len(l)):\n",
    "    if(l[i]%2==0):l[i]='x'\n",
    "print(l)\n",
    "a=0\n",
    "while(a<len(l)):\n",
    "    if(l[a]=='x'):l.pop(a)\n",
    "    else:a+=1\n",
    "print(l)"
   ]
  },
  {
   "cell_type": "code",
   "execution_count": 6,
   "metadata": {},
   "outputs": [
    {
     "name": "stdout",
     "output_type": "stream",
     "text": [
      "[1, -2, -5, 0, 3]\n"
     ]
    }
   ],
   "source": [
    "l=[1,-2,1,-5,0,3]\n",
    "print(l[:2]+l[3:])"
   ]
  },
  {
   "cell_type": "code",
   "execution_count": 8,
   "metadata": {},
   "outputs": [
    {
     "name": "stdout",
     "output_type": "stream",
     "text": [
      "uno dos tres\n"
     ]
    }
   ],
   "source": [
    "print(' '.join(['uno','dos','tres']))"
   ]
  },
  {
   "cell_type": "code",
   "execution_count": 29,
   "metadata": {},
   "outputs": [
    {
     "name": "stdout",
     "output_type": "stream",
     "text": [
      "\n"
     ]
    }
   ],
   "source": [
    "cad='&&&&&&&grghreghrfedghr&r&grfg&rg&&grgreg&&g&&&&greghergreg&&&regergregreg&&&gregregregr&&&d&cd&r&hg&tr&uju&ku&k&&g&vdvg&df&&&&&&'\n",
    "cadn=''\n",
    "i=0\n",
    "k=0\n",
    "for n in cad:\n",
    "    if(n=='&'):k+=1\n",
    "    if(k<0):\n",
    "        cadn+=n\n",
    "        k=0\n",
    "    \n",
    "print(cadn)\n",
    "        \n",
    "    "
   ]
  },
  {
   "cell_type": "code",
   "execution_count": 45,
   "metadata": {},
   "outputs": [
    {
     "name": "stdout",
     "output_type": "stream",
     "text": [
      "[[0. 0. 0. 0. 0.]\n",
      " [0. 0. 0. 0. 0.]\n",
      " [0. 0. 0. 0. 0.]\n",
      " [0. 0. 0. 0. 0.]\n",
      " [0. 0. 0. 0. 0.]]\n"
     ]
    }
   ],
   "source": [
    "import numpy as np\n",
    "M=np.zeros((5,5))\n",
    "print(M)"
   ]
  },
  {
   "cell_type": "code",
   "execution_count": 47,
   "metadata": {},
   "outputs": [
    {
     "name": "stdout",
     "output_type": "stream",
     "text": [
      "[[1. 0. 0. 0. 0.]\n",
      " [0. 1. 0. 0. 0.]\n",
      " [0. 0. 1. 0. 0.]\n",
      " [0. 0. 0. 1. 0.]\n",
      " [0. 0. 0. 0. 1.]]\n"
     ]
    }
   ],
   "source": [
    "import numpy as np\n",
    "I=np.identity(5)\n",
    "print(I)"
   ]
  },
  {
   "cell_type": "code",
   "execution_count": 50,
   "metadata": {},
   "outputs": [
    {
     "name": "stdout",
     "output_type": "stream",
     "text": [
      "[[1. 0. 0.]\n",
      " [0. 1. 0.]\n",
      " [0. 0. 1.]]\n",
      "0.0\n",
      "1.0\n",
      "--\n",
      "[1. 0. 0.]\n",
      "[0. 1. 0.]\n",
      "[0. 0. 1.]\n",
      "--\n",
      "1.0\n",
      "0.0\n",
      "0.0\n",
      "0.0\n",
      "1.0\n",
      "0.0\n",
      "0.0\n",
      "0.0\n",
      "1.0\n"
     ]
    }
   ],
   "source": [
    "import numpy as np\n",
    "I=np.identity(3)\n",
    "print(I)\n",
    "print(I[-1][0])\n",
    "print(I[-1][-1])\n",
    "print('--')\n",
    "for i in range(0,3):\n",
    "    print(I[i])\n",
    "print('--')\n",
    "for i in range(0,3):\n",
    "    for j in range(0,3):\n",
    "        print(I[i][j])"
   ]
  },
  {
   "cell_type": "code",
   "execution_count": 52,
   "metadata": {},
   "outputs": [
    {
     "name": "stdout",
     "output_type": "stream",
     "text": [
      "3.0\n"
     ]
    }
   ],
   "source": [
    "import numpy as np\n",
    "M=np.identity(3)\n",
    "s=0.0\n",
    "for i in range(0,3):\n",
    "    for j in range(0,3):\n",
    "        s+=M[i][j]\n",
    "print(s)\n"
   ]
  },
  {
   "cell_type": "code",
   "execution_count": 54,
   "metadata": {},
   "outputs": [
    {
     "name": "stdout",
     "output_type": "stream",
     "text": [
      "[[1. 0. 0. 0. 0. 0.]\n",
      " [0. 1. 0. 0. 0. 0.]\n",
      " [0. 0. 1. 0. 0. 0.]\n",
      " [0. 0. 0. 1. 0. 0.]\n",
      " [0. 0. 0. 0. 1. 0.]\n",
      " [0. 0. 0. 0. 0. 1.]]\n"
     ]
    }
   ],
   "source": [
    "import numpy as np\n",
    "n=int(input('Ingrese el grado de la matriz:'))\n",
    "M=np.identity(n)\n",
    "print(M)"
   ]
  },
  {
   "cell_type": "code",
   "execution_count": 64,
   "metadata": {},
   "outputs": [
    {
     "name": "stdout",
     "output_type": "stream",
     "text": [
      "[[29  8  1 18 18]\n",
      " [29  6 16  1  7]\n",
      " [26 19 27 16  1]\n",
      " [11 20 21 22 22]\n",
      " [18  6  1 19  1]]\n",
      "[[19 16  6 10 22]\n",
      " [29  6  7 25 12]\n",
      " [ 7 10  3 14 11]\n",
      " [13 12 17 16 20]\n",
      " [ 5 25  9  6 26]]\n",
      "[[ 10  -8  -5   8  -4]\n",
      " [  0   0   9 -24  -5]\n",
      " [ 19   9  24   2 -10]\n",
      " [ -2   8   4   6   2]\n",
      " [ 13 -19  -8  13 -25]]\n"
     ]
    }
   ],
   "source": [
    "import numpy as np\n",
    "M1=np.random.randint(1, 100,(5,5)) \n",
    "M2=np.random.randint(1, 100,(5,5))  \n",
    "print(M1)\n",
    "print(M2)\n",
    "print(M1-M2)"
   ]
  },
  {
   "cell_type": "code",
   "execution_count": 65,
   "metadata": {},
   "outputs": [
    {
     "name": "stdout",
     "output_type": "stream",
     "text": [
      "[[-39  99 -74 -55 -51]\n",
      " [-33 -56 -43  12 -60]\n",
      " [-87 -72  14  12 -71]\n",
      " [ 88 -71 -13  82 -19]\n",
      " [ 83 -33 -80   4  78]]\n",
      "[[-195  495 -370 -275 -255]\n",
      " [-165 -280 -215   60 -300]\n",
      " [-435 -360   70   60 -355]\n",
      " [ 440 -355  -65  410  -95]\n",
      " [ 415 -165 -400   20  390]]\n"
     ]
    }
   ],
   "source": [
    "import numpy as np\n",
    "M1=np.random.randint(-100, 100,(5,5))\n",
    "print(M1)\n",
    "n=int(input('Ingresa un numero:'))\n",
    "print(M1*n)"
   ]
  },
  {
   "cell_type": "code",
   "execution_count": 67,
   "metadata": {},
   "outputs": [
    {
     "name": "stdout",
     "output_type": "stream",
     "text": [
      "[[-21  42 -46]\n",
      " [ 63 -98   3]\n",
      " [ 72 -73 -57]\n",
      " [ 12  21  40]]\n",
      "--\n",
      "[[-21  63  72  12]\n",
      " [ 42 -98 -73  21]\n",
      " [-46   3 -57  40]]\n"
     ]
    }
   ],
   "source": [
    "import numpy as np\n",
    "M1=np.random.randint(-100, 100,(4,3))\n",
    "print(M1)\n",
    "print('--')\n",
    "print(M1.transpose())"
   ]
  },
  {
   "cell_type": "code",
   "execution_count": 72,
   "metadata": {},
   "outputs": [
    {
     "name": "stdout",
     "output_type": "stream",
     "text": [
      "[[2 4 4]\n",
      " [5 4 9]\n",
      " [2 3 8]]\n",
      "[ 9 11 21]\n",
      "[10 18 13]\n",
      "La matriz no es prima\n"
     ]
    }
   ],
   "source": [
    "import numpy as np\n",
    "M1=np.random.randint(1, 10,(3,3))\n",
    "print(M1)\n",
    "sum_col=M1.sum(axis=0)\n",
    "sum_row=M1.sum(axis=1)\n",
    "print(sum_col)\n",
    "print(sum_row)\n",
    "c=0\n",
    "for i in range(len(sum_col)):\n",
    "    for j in range(len(sum_row)):\n",
    "        if(sum_col[i]==sum_row[j]):c+=1\n",
    "if(c>0):print('La matriz es prima')\n",
    "else:print('La matriz no es prima')"
   ]
  },
  {
   "cell_type": "code",
   "execution_count": 13,
   "metadata": {},
   "outputs": [
    {
     "name": "stdout",
     "output_type": "stream",
     "text": [
      "[[0 6 4]\n",
      " [5 9 0]\n",
      " [3 8 4]]\n",
      "[[-0.52941176 -0.11764706  0.52941176]\n",
      " [ 0.29411765  0.17647059 -0.29411765]\n",
      " [-0.19117647 -0.26470588  0.44117647]]\n",
      "[0 6 4 5 9 0 3 8 4]\n"
     ]
    }
   ],
   "source": [
    "import numpy as np\n",
    "from numpy.linalg import inv\n",
    "M=np.random.randint(0, 10,(3,3))\n",
    "print(M)\n",
    "print(inv(M))\n",
    "print(M.flatten())"
   ]
  },
  {
   "cell_type": "code",
   "execution_count": 77,
   "metadata": {},
   "outputs": [
    {
     "name": "stdout",
     "output_type": "stream",
     "text": [
      "[[15  3 17  2 19]\n",
      " [11  8  2 13  8]\n",
      " [17  2 11  2 10]\n",
      " [17  3 19 10  4]\n",
      " [ 6 15 14  0  0]]\n",
      "La matriz no es diagonal superior\n"
     ]
    }
   ],
   "source": [
    "import numpy as np\n",
    "from numpy.linalg import inv\n",
    "M=np.random.randint(0, 20,(5,5))\n",
    "#M=np.array([[1., 4., 0., 0., 0.],[0., 1., 0., 0., 0.],[0., 1., 1., 0., 0.],[0., 0., 0., 1., 0.],[0., 0., 0., 0., 1.]])\n",
    "n=5\n",
    "print(M)\n",
    "#A=[]\n",
    "s=0\n",
    "for i in range(n):\n",
    "    for j in range(i):\n",
    "        #A.append(M[i][j])\n",
    "        s+=M[i][j]\n",
    "if(s>0):print('La matriz no es diagonal superior')\n",
    "else:print('La matriz es diagonal superior')"
   ]
  },
  {
   "cell_type": "code",
   "execution_count": 1,
   "metadata": {},
   "outputs": [
    {
     "name": "stdout",
     "output_type": "stream",
     "text": [
      "pygame 1.9.6\n",
      "Hello from the pygame community. https://www.pygame.org/contribute.html\n"
     ]
    },
    {
     "name": "stderr",
     "output_type": "stream",
     "text": [
      "/tmp/ipykernel_11036/3724101392.py:66: DeprecationWarning: an integer is required (got type float).  Implicit conversion to integers using __int__ is deprecated, and may be removed in a future version of Python.\n",
      "  pygame.draw.polygon(screen,(128,128,128),poly,1)\n",
      "/tmp/ipykernel_11036/3724101392.py:68: DeprecationWarning: an integer is required (got type float).  Implicit conversion to integers using __int__ is deprecated, and may be removed in a future version of Python.\n",
      "  pygame.draw.polygon(screen,(255,255,255),poly,0)\n"
     ]
    }
   ],
   "source": [
    "import pygame\n",
    "import numpy as np\n",
    "import time\n",
    "\n",
    "pygame.init()\n",
    "#ancho y alto de la pantalla\n",
    "width, height=500,500\n",
    "#Cracion de la pantalla\n",
    "screen=pygame.display.set_mode((height,width))\n",
    "\n",
    "#color de fondo\n",
    "bg=25,25,25\n",
    "#pintamos el fondo con el color elegido\n",
    "screen.fill(bg)\n",
    "#numero de celdas\n",
    "nxC=50\n",
    "nyC=50\n",
    "#dimensiones de la celda\n",
    "dimCW=width/nxC\n",
    "dimCH=height/nyC\n",
    "\n",
    "#Estado de las celdas, vivas=1 y muertas=0\n",
    "gameState=np.zeros((nxC,nyC))\n",
    "\n",
    "#Automata palo\n",
    "gameState[5,3]=1\n",
    "gameState[5,4]=1\n",
    "gameState[5,5]=1\n",
    "#Automata movil\n",
    "gameState[21,21]=1\n",
    "gameState[22,22]=1\n",
    "gameState[22,23]=1\n",
    "gameState[21,23]=1\n",
    "gameState[20,23]=1\n",
    "\n",
    "\n",
    "#bucle de ejecucion\n",
    "while True:\n",
    "    newGameState=np.copy(gameState)\n",
    "    screen.fill(bg)\n",
    "    time.sleep(0.1)\n",
    "    for y in range(0,nxC):\n",
    "        for x in range(0,nxC):\n",
    "            #Calcumamos el numero de vecinos cercanos\n",
    "            n_neigh=gameState[(x-1)%nxC,(y-1)%nyC]+\\\n",
    "                    gameState[(x  )%nxC,(y-1)%nyC]+\\\n",
    "                    gameState[(x+1)%nxC,(y-1)%nyC]+\\\n",
    "                    gameState[(x-1)%nxC,(y  )%nyC]+\\\n",
    "                    gameState[(x+1)%nxC,(y  )%nyC]+\\\n",
    "                    gameState[(x-1)%nxC,(y+1)%nyC]+\\\n",
    "                    gameState[(x  )%nxC,(y+1)%nyC]+\\\n",
    "                    gameState[(x+1)%nxC,(y+1)%nyC]\n",
    "            #Rule 1: Una celula muerta con exactamente 3 v ecinas viva, \"revive\"\n",
    "            if gameState[x,y]==0 and n_neigh==3:\n",
    "                newGameState[x,y]=1\n",
    "            #Rule 2: Una celula viva con menos de 2 o mas de 3 vecinas vivas, \"muere\"\n",
    "            elif gameState[x,y]==1 and (n_neigh<2 or n_neigh>3):\n",
    "                newGameState[x,y]=0\n",
    "            #Creamos el poligono de cada celda a dibujar\n",
    "            poly=[(x*dimCW,y*dimCH),\n",
    "                  ((x+1)*dimCW,y*dimCH),\n",
    "                  ((x+1)*dimCW,(y+1)*dimCH),\n",
    "                  (x*dimCW,(y+1)*dimCH)]\n",
    "            #Y dibujamops la celda para cada par de x e y.\n",
    "            if newGameState[x,y]==0:\n",
    "                pygame.draw.polygon(screen,(128,128,128),poly,1)\n",
    "            else:\n",
    "                pygame.draw.polygon(screen,(255,255,255),poly,0)\n",
    "    #Actualizamos el estado del juego\n",
    "    gameState=np.copy(newGameState)\n",
    "    #Actualizamos la pantalla\n",
    "    pygame.display.flip()\n",
    "for event in pygame.event.get():\n",
    "    if event.type == pygame.QUIT:\n",
    "        pygame.quit()\n"
   ]
  },
  {
   "cell_type": "code",
   "execution_count": null,
   "metadata": {},
   "outputs": [],
   "source": []
  }
 ],
 "metadata": {
  "kernelspec": {
   "display_name": "Python 3.8.10 64-bit",
   "language": "python",
   "name": "python3"
  },
  "language_info": {
   "codemirror_mode": {
    "name": "ipython",
    "version": 3
   },
   "file_extension": ".py",
   "mimetype": "text/x-python",
   "name": "python",
   "nbconvert_exporter": "python",
   "pygments_lexer": "ipython3",
   "version": "3.8.10"
  },
  "orig_nbformat": 4,
  "vscode": {
   "interpreter": {
    "hash": "916dbcbb3f70747c44a77c7bcd40155683ae19c65e1c03b4aa3499c5328201f1"
   }
  }
 },
 "nbformat": 4,
 "nbformat_minor": 2
}
